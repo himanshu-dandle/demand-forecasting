{
 "cells": [
  {
   "cell_type": "markdown",
   "id": "0f940d10-9f57-4e6a-a5bd-fe8f91743b1e",
   "metadata": {},
   "source": [
    "## Load the Processed Dataset"
   ]
  },
  {
   "cell_type": "code",
   "execution_count": 1,
   "id": "e8f70876-921a-464f-b057-b4b5a93b794c",
   "metadata": {},
   "outputs": [
    {
     "name": "stdout",
     "output_type": "stream",
     "text": [
      "Processed dataset loaded!\n",
      "<class 'pandas.core.frame.DataFrame'>\n",
      "RangeIndex: 128585 entries, 0 to 128584\n",
      "Data columns (total 13 columns):\n",
      " #   Column           Non-Null Count   Dtype  \n",
      "---  ------           --------------   -----  \n",
      " 0   record_ID        128585 non-null  float64\n",
      " 1   store_id         128585 non-null  float64\n",
      " 2   sku_id           128585 non-null  float64\n",
      " 3   total_price      128585 non-null  float64\n",
      " 4   base_price       128585 non-null  float64\n",
      " 5   is_featured_sku  128585 non-null  float64\n",
      " 6   is_display_sku   128585 non-null  float64\n",
      " 7   units_sold       128585 non-null  float64\n",
      " 8   year             128585 non-null  float64\n",
      " 9   month            128585 non-null  float64\n",
      " 10  week_num         128585 non-null  float64\n",
      " 11  quarter          128585 non-null  float64\n",
      " 12  day_of_week      128585 non-null  float64\n",
      "dtypes: float64(13)\n",
      "memory usage: 12.8 MB\n",
      "None\n"
     ]
    }
   ],
   "source": [
    "import pandas as pd\n",
    "import os\n",
    "from sklearn.model_selection import train_test_split\n",
    "\n",
    "# Define directories\n",
    "DATA_DIR = \"../data/\"\n",
    "df = pd.read_csv(os.path.join(DATA_DIR, \"train_processed.csv\"))\n",
    "\n",
    "print(\"Processed dataset loaded!\")\n",
    "print(df.info())\n"
   ]
  },
  {
   "cell_type": "code",
   "execution_count": 2,
   "id": "e35e62f3-f33d-45ef-8cdf-20d930d88b20",
   "metadata": {},
   "outputs": [],
   "source": [
    "## Split Data into Train & Test Sets"
   ]
  },
  {
   "cell_type": "code",
   "execution_count": 3,
   "id": "1b5e37e8-269b-499f-8b71-789862f2b94a",
   "metadata": {},
   "outputs": [],
   "source": [
    "# Define target variable\n",
    "TARGET = \"units_sold\"  # Adjust if needed\n",
    "\n",
    "# Separate features (X) and target (y)\n",
    "X = df.drop(columns=[TARGET])\n",
    "y = df[TARGET]\n",
    "\n",
    "# Split into train (80%) and test (20%) sets\n",
    "X_train, X_test, y_train, y_test = train_test_split(X, y, test_size=0.2, random_state=42)\n",
    "\n"
   ]
  },
  {
   "cell_type": "code",
   "execution_count": 4,
   "id": "e5a8e494-106a-4c66-a623-5da77a75646c",
   "metadata": {},
   "outputs": [
    {
     "name": "stdout",
     "output_type": "stream",
     "text": [
      "Data split into train & test sets!\n",
      "Train shape: (102868, 12), Test shape: (25717, 12)\n"
     ]
    }
   ],
   "source": [
    "print(\"Data split into train & test sets!\")\n",
    "print(f\"Train shape: {X_train.shape}, Test shape: {X_test.shape}\")\n"
   ]
  },
  {
   "cell_type": "markdown",
   "id": "89c5e1e7-fb36-4deb-9b86-e3ab13d7e8d1",
   "metadata": {},
   "source": [
    "## Train Multiple Model"
   ]
  },
  {
   "cell_type": "code",
   "execution_count": 5,
   "id": "4c6dcda8-205f-4379-91c5-59e158e42dfe",
   "metadata": {},
   "outputs": [],
   "source": [
    "from sklearn.ensemble import RandomForestRegressor, GradientBoostingRegressor\n",
    "from xgboost import XGBRegressor\n",
    "from sklearn.metrics import mean_absolute_error, mean_squared_error, r2_score\n",
    "\n",
    "# Initialize models\n",
    "models = {\n",
    "    \"RandomForest\": RandomForestRegressor(n_estimators=100, random_state=42),\n",
    "    \"XGBoost\": XGBRegressor(n_estimators=100, random_state=42),\n",
    "    \"GradientBoosting\": GradientBoostingRegressor(n_estimators=100, random_state=42),\n",
    "}"
   ]
  },
  {
   "cell_type": "code",
   "execution_count": 6,
   "id": "e23746d8-a009-4254-97b8-08e7e75072c4",
   "metadata": {},
   "outputs": [
    {
     "name": "stdout",
     "output_type": "stream",
     "text": [
      " Training RandomForest...\n",
      "✅ RandomForest - MAE: 0.3756, MSE: 0.2721, R²: 0.7259\n",
      " Training XGBoost...\n",
      "✅ XGBoost - MAE: 0.3738, MSE: 0.2519, R²: 0.7462\n",
      " Training GradientBoosting...\n",
      "✅ GradientBoosting - MAE: 0.5735, MSE: 0.5555, R²: 0.4404\n"
     ]
    }
   ],
   "source": [
    "# Train models and evaluate performance\n",
    "results = {}\n",
    "for name, model in models.items():\n",
    "    print(f\" Training {name}...\")\n",
    "    model.fit(X_train, y_train)\n",
    "    \n",
    "    # Predictions\n",
    "    y_pred = model.predict(X_test)\n",
    "    \n",
    "    # Calculate performance metrics\n",
    "    mae = mean_absolute_error(y_test, y_pred)\n",
    "    mse = mean_squared_error(y_test, y_pred)\n",
    "    r2 = r2_score(y_test, y_pred)\n",
    "    \n",
    "    results[name] = {\"MAE\": mae, \"MSE\": mse, \"R2\": r2}\n",
    "    print(f\"✅ {name} - MAE: {mae:.4f}, MSE: {mse:.4f}, R²: {r2:.4f}\")\n"
   ]
  },
  {
   "cell_type": "code",
   "execution_count": 7,
   "id": "23efba8d-2551-4d86-a397-a2e453a9ecdc",
   "metadata": {},
   "outputs": [
    {
     "name": "stdout",
     "output_type": "stream",
     "text": [
      "\n",
      "🔍 Model Performance Comparison:\n",
      "                        MAE       MSE        R2\n",
      "RandomForest      0.375562  0.272121  0.725851\n",
      "XGBoost           0.373834  0.251892  0.746230\n",
      "GradientBoosting  0.573512  0.555499  0.440361\n"
     ]
    }
   ],
   "source": [
    "# Convert results to a DataFrame for easy comparison\n",
    "import pandas as pd\n",
    "results_df = pd.DataFrame(results).T\n",
    "print(\"\\n🔍 Model Performance Comparison:\\n\", results_df)\n"
   ]
  },
  {
   "cell_type": "code",
   "execution_count": 8,
   "id": "573b76f7-42bb-40bc-ab64-032e5479e5c9",
   "metadata": {},
   "outputs": [],
   "source": [
    "## Save the Best Model"
   ]
  },
  {
   "cell_type": "code",
   "execution_count": 31,
   "id": "f1b6c751-8142-4392-ac99-3f8cf85a697b",
   "metadata": {},
   "outputs": [
    {
     "name": "stdout",
     "output_type": "stream",
     "text": [
      "✅ Best model 'XGBoost' saved at ../models/xgboost_model.pkl!\n"
     ]
    }
   ],
   "source": [
    "import joblib\n",
    "import os\n",
    "\n",
    "# Get the best model based on R²\n",
    "best_model_name = results_df[\"R2\"].idxmax()\n",
    "best_model = models[best_model_name]\n",
    "\n",
    "# Save the model in .pkl format\n",
    "MODEL_DIR = \"../models/\"\n",
    "os.makedirs(MODEL_DIR, exist_ok=True)\n",
    "model_path = os.path.join(MODEL_DIR, \"xgboost_model.pkl\")\n",
    "\n",
    "joblib.dump(best_model, model_path)\n",
    "print(f\"✅ Best model '{best_model_name}' saved at {model_path}!\")\n"
   ]
  },
  {
   "cell_type": "code",
   "execution_count": null,
   "id": "ea1f1f17-e149-4920-8993-2b658e5be412",
   "metadata": {},
   "outputs": [],
   "source": []
  }
 ],
 "metadata": {
  "kernelspec": {
   "display_name": "Python (forecasting_env)",
   "language": "python",
   "name": "forecasting_env"
  },
  "language_info": {
   "codemirror_mode": {
    "name": "ipython",
    "version": 3
   },
   "file_extension": ".py",
   "mimetype": "text/x-python",
   "name": "python",
   "nbconvert_exporter": "python",
   "pygments_lexer": "ipython3",
   "version": "3.12.4"
  }
 },
 "nbformat": 4,
 "nbformat_minor": 5
}
