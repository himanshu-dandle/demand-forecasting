{
 "cells": [
  {
   "cell_type": "markdown",
   "id": "762bf4d2-8fe8-4346-a2f4-ed6c6611242f",
   "metadata": {},
   "source": [
    "## Load Cleaned Data"
   ]
  },
  {
   "cell_type": "code",
   "execution_count": 1,
   "id": "1cb10b31-76f5-404a-9269-3c6fa87b00c3",
   "metadata": {},
   "outputs": [
    {
     "name": "stdout",
     "output_type": "stream",
     "text": [
      " Cleaned dataset loaded!\n",
      "<class 'pandas.core.frame.DataFrame'>\n",
      "RangeIndex: 128585 entries, 0 to 128584\n",
      "Data columns (total 14 columns):\n",
      " #   Column           Non-Null Count   Dtype  \n",
      "---  ------           --------------   -----  \n",
      " 0   record_ID        128585 non-null  int64  \n",
      " 1   week             128585 non-null  object \n",
      " 2   store_id         128585 non-null  int64  \n",
      " 3   sku_id           128585 non-null  int64  \n",
      " 4   total_price      128585 non-null  float64\n",
      " 5   base_price       128585 non-null  float64\n",
      " 6   is_featured_sku  128585 non-null  int64  \n",
      " 7   is_display_sku   128585 non-null  int64  \n",
      " 8   units_sold       128585 non-null  int64  \n",
      " 9   year             128585 non-null  int64  \n",
      " 10  month            128585 non-null  int64  \n",
      " 11  week_num         128585 non-null  int64  \n",
      " 12  quarter          128585 non-null  int64  \n",
      " 13  day_of_week      128585 non-null  int64  \n",
      "dtypes: float64(2), int64(11), object(1)\n",
      "memory usage: 13.7+ MB\n",
      "None\n"
     ]
    }
   ],
   "source": [
    "import pandas as pd\n",
    "import os\n",
    "\n",
    "# Define directories\n",
    "DATA_DIR = \"../data/\"\n",
    "\n",
    "# Load cleaned dataset\n",
    "df_train = pd.read_csv(os.path.join(DATA_DIR, \"train_cleaned.csv\"))\n",
    "\n",
    "print(\" Cleaned dataset loaded!\")\n",
    "print(df_train.info())  # Check data structure\n"
   ]
  },
  {
   "cell_type": "code",
   "execution_count": 2,
   "id": "99a1073e-0c25-451b-910c-6e40a7e6166e",
   "metadata": {},
   "outputs": [
    {
     "name": "stdout",
     "output_type": "stream",
     "text": [
      "Categorical columns: Index(['week'], dtype='object')\n"
     ]
    }
   ],
   "source": [
    "categorical_cols = df_train.select_dtypes(include=[\"object\"]).columns\n",
    "print(\"Categorical columns:\", categorical_cols)\n"
   ]
  },
  {
   "cell_type": "code",
   "execution_count": null,
   "id": "06119f0e-8f1f-427b-9b33-cf8851759a93",
   "metadata": {},
   "outputs": [],
   "source": []
  },
  {
   "cell_type": "code",
   "execution_count": null,
   "id": "853c886a-9cbb-4581-897b-194add9e7861",
   "metadata": {},
   "outputs": [],
   "source": []
  },
  {
   "cell_type": "code",
   "execution_count": 3,
   "id": "97ca9866-6bc8-4012-a806-7fed60c52d84",
   "metadata": {},
   "outputs": [
    {
     "name": "stdout",
     "output_type": "stream",
     "text": [
      "Dropped 'week' column!\n"
     ]
    }
   ],
   "source": [
    "df_train.drop(columns=[\"week\"], inplace=True)\n",
    "print(\"Dropped 'week' column!\")\n"
   ]
  },
  {
   "cell_type": "code",
   "execution_count": 4,
   "id": "080b772b-6129-4caa-9787-c04210c54b67",
   "metadata": {},
   "outputs": [
    {
     "name": "stdout",
     "output_type": "stream",
     "text": [
      "Categorical columns after dropping 'week': Index([], dtype='object')\n"
     ]
    }
   ],
   "source": [
    "categorical_cols = df_train.select_dtypes(include=[\"object\"]).columns\n",
    "print(\"Categorical columns after dropping 'week':\", categorical_cols)\n"
   ]
  },
  {
   "cell_type": "code",
   "execution_count": 5,
   "id": "c91ebba7-1721-41d1-b70d-75f6cc37e8d5",
   "metadata": {},
   "outputs": [
    {
     "name": "stdout",
     "output_type": "stream",
     "text": [
      "<class 'pandas.core.frame.DataFrame'>\n",
      "RangeIndex: 128585 entries, 0 to 128584\n",
      "Data columns (total 13 columns):\n",
      " #   Column           Non-Null Count   Dtype  \n",
      "---  ------           --------------   -----  \n",
      " 0   record_ID        128585 non-null  int64  \n",
      " 1   store_id         128585 non-null  int64  \n",
      " 2   sku_id           128585 non-null  int64  \n",
      " 3   total_price      128585 non-null  float64\n",
      " 4   base_price       128585 non-null  float64\n",
      " 5   is_featured_sku  128585 non-null  int64  \n",
      " 6   is_display_sku   128585 non-null  int64  \n",
      " 7   units_sold       128585 non-null  int64  \n",
      " 8   year             128585 non-null  int64  \n",
      " 9   month            128585 non-null  int64  \n",
      " 10  week_num         128585 non-null  int64  \n",
      " 11  quarter          128585 non-null  int64  \n",
      " 12  day_of_week      128585 non-null  int64  \n",
      "dtypes: float64(2), int64(11)\n",
      "memory usage: 12.8 MB\n",
      "None\n"
     ]
    }
   ],
   "source": [
    "print(df_train.info())  # Check data structure\n"
   ]
  },
  {
   "cell_type": "code",
   "execution_count": 8,
   "id": "1735389b-3ef9-49f8-a25d-f3815a4b6b56",
   "metadata": {},
   "outputs": [],
   "source": [
    "## Scale Numerical Features\n",
    "from sklearn.preprocessing import StandardScaler"
   ]
  },
  {
   "cell_type": "code",
   "execution_count": 9,
   "id": "a5d84c09-7e40-4daf-8245-6502deb669c8",
   "metadata": {},
   "outputs": [],
   "source": [
    "scaler = StandardScaler()\n",
    "numeric_cols = df_train.select_dtypes(include=[\"number\"]).columns\n",
    "df_train[numeric_cols] = scaler.fit_transform(df_train[numeric_cols])\n"
   ]
  },
  {
   "cell_type": "code",
   "execution_count": 10,
   "id": "07410cc3-4609-49ad-bffc-4d4a3e39a12d",
   "metadata": {},
   "outputs": [],
   "source": [
    "# Save the Final Processed Dataset\n",
    "df_train.to_csv(os.path.join(DATA_DIR, \"train_processed.csv\"), index=False)"
   ]
  },
  {
   "cell_type": "code",
   "execution_count": null,
   "id": "f8f2681d-2126-4840-ab59-477fcb0e2b38",
   "metadata": {},
   "outputs": [],
   "source": []
  }
 ],
 "metadata": {
  "kernelspec": {
   "display_name": "Python (forecasting_env)",
   "language": "python",
   "name": "forecasting_env"
  },
  "language_info": {
   "codemirror_mode": {
    "name": "ipython",
    "version": 3
   },
   "file_extension": ".py",
   "mimetype": "text/x-python",
   "name": "python",
   "nbconvert_exporter": "python",
   "pygments_lexer": "ipython3",
   "version": "3.12.4"
  }
 },
 "nbformat": 4,
 "nbformat_minor": 5
}
