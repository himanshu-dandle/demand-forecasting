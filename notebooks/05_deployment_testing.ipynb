{
 "cells": [
  {
   "cell_type": "code",
   "execution_count": 6,
   "id": "4b1f766b-0884-48b3-b7d7-9ff385ae2e4b",
   "metadata": {},
   "outputs": [
    {
     "name": "stderr",
     "output_type": "stream",
     "text": [
      "C:\\Users\\Himanshu\\Demand_Forecasting_Project\\forecasting_env\\Lib\\site-packages\\pydantic\\_internal\\_fields.py:192: UserWarning: Field name \"json\" in \"MonitoringDatasetFormat\" shadows an attribute in parent \"Base\"\n",
      "  warnings.warn(\n"
     ]
    },
    {
     "data": {
      "text/html": [
       "<pre style=\"white-space:pre;overflow-x:auto;line-height:normal;font-family:Menlo,'DejaVu Sans Mono',consolas,'Courier New',monospace\"><span style=\"color: #7fbfbf; text-decoration-color: #7fbfbf\">[02/28/25 09:27:47] </span><span style=\"color: #0069ff; text-decoration-color: #0069ff; font-weight: bold\">INFO    </span> Found credentials in shared credentials file: ~<span style=\"color: #e100e1; text-decoration-color: #e100e1\">/.aws/credentials</span>   <a href=\"file://C:\\Users\\Himanshu\\Demand_Forecasting_Project\\forecasting_env\\Lib\\site-packages\\botocore\\credentials.py\" target=\"_blank\"><span style=\"color: #7f7f7f; text-decoration-color: #7f7f7f\">credentials.py</span></a><span style=\"color: #7f7f7f; text-decoration-color: #7f7f7f\">:</span><a href=\"file://C:\\Users\\Himanshu\\Demand_Forecasting_Project\\forecasting_env\\Lib\\site-packages\\botocore\\credentials.py#1278\" target=\"_blank\"><span style=\"color: #7f7f7f; text-decoration-color: #7f7f7f\">1278</span></a>\n",
       "</pre>\n"
      ],
      "text/plain": [
       "\u001b[2;36m[02/28/25 09:27:47]\u001b[0m\u001b[2;36m \u001b[0m\u001b[1;38;2;0;105;255mINFO    \u001b[0m Found credentials in shared credentials file: ~\u001b[38;2;225;0;225m/.aws/\u001b[0m\u001b[38;2;225;0;225mcredentials\u001b[0m   \u001b]8;id=154563;file://C:\\Users\\Himanshu\\Demand_Forecasting_Project\\forecasting_env\\Lib\\site-packages\\botocore\\credentials.py\u001b\\\u001b[2mcredentials.py\u001b[0m\u001b]8;;\u001b\\\u001b[2m:\u001b[0m\u001b]8;id=293547;file://C:\\Users\\Himanshu\\Demand_Forecasting_Project\\forecasting_env\\Lib\\site-packages\\botocore\\credentials.py#1278\u001b\\\u001b[2m1278\u001b[0m\u001b]8;;\u001b\\\n"
      ]
     },
     "metadata": {},
     "output_type": "display_data"
    },
    {
     "name": "stdout",
     "output_type": "stream",
     "text": [
      "sagemaker.config INFO - Not applying SDK defaults from location: C:\\ProgramData\\sagemaker\\sagemaker\\config.yaml\n",
      "sagemaker.config INFO - Not applying SDK defaults from location: C:\\Users\\Himanshu\\AppData\\Local\\sagemaker\\sagemaker\\config.yaml\n"
     ]
    }
   ],
   "source": [
    "import boto3\n",
    "import os\n",
    "import tarfile\n",
    "import joblib\n",
    "import xgboost as xgb\n",
    "import json\n",
    "import time\n",
    "from dotenv import load_dotenv\n",
    "from sagemaker import image_uris"
   ]
  },
  {
   "cell_type": "code",
   "execution_count": 7,
   "id": "bcf2a9e5-2a09-4289-b4a9-1676274d0710",
   "metadata": {},
   "outputs": [],
   "source": [
    "\n",
    "\n",
    "# ✅ Step 1: Load Environment Variables (Secrets)\n",
    "load_dotenv()  # Load from .env file\n",
    "\n",
    "BUCKET_NAME = os.getenv(\"SAGEMAKER_BUCKET\")\n",
    "ROLE_ARN = os.getenv(\"SAGEMAKER_ROLE\")\n",
    "\n",
    "if not BUCKET_NAME or not ROLE_ARN:\n",
    "    raise ValueError(\"❌ Missing AWS credentials in .env file!\")"
   ]
  },
  {
   "cell_type": "code",
   "execution_count": 2,
   "id": "813238c3-d9a0-4bce-befa-c064e67331eb",
   "metadata": {},
   "outputs": [
    {
     "name": "stdout",
     "output_type": "stream",
     "text": [
      "Collecting load_dotenv\n",
      "  Downloading load_dotenv-0.1.0-py3-none-any.whl.metadata (1.9 kB)\n",
      "Requirement already satisfied: python-dotenv in c:\\users\\himanshu\\demand_forecasting_project\\forecasting_env\\lib\\site-packages (from load_dotenv) (1.0.1)\n",
      "Downloading load_dotenv-0.1.0-py3-none-any.whl (7.2 kB)\n",
      "Installing collected packages: load_dotenv\n",
      "Successfully installed load_dotenv-0.1.0\n",
      "Note: you may need to restart the kernel to use updated packages.\n"
     ]
    },
    {
     "name": "stderr",
     "output_type": "stream",
     "text": [
      "\n",
      "[notice] A new release of pip is available: 24.0 -> 25.0.1\n",
      "[notice] To update, run: python.exe -m pip install --upgrade pip\n"
     ]
    }
   ],
   "source": [
    "pip install load_dotenv"
   ]
  },
  {
   "cell_type": "code",
   "execution_count": 8,
   "id": "7fb3b21d-312c-4deb-8e6b-9a7cd79dbc57",
   "metadata": {},
   "outputs": [],
   "source": [
    "\n",
    "\n",
    "# ✅ Step 2: Define Model & Endpoint Names\n",
    "MODEL_NAME = \"xgboost-demand-forecasting\"\n",
    "ENDPOINT_CONFIG_NAME = MODEL_NAME + \"-config\"\n",
    "ENDPOINT_NAME = MODEL_NAME + \"-endpoint\"\n",
    "MODEL_FILE = \"xgboost_model.tar.gz\"\n",
    "MODEL_URI = f\"s3://{BUCKET_NAME}/{MODEL_FILE}\""
   ]
  },
  {
   "cell_type": "code",
   "execution_count": 9,
   "id": "5831493c-b57e-48af-8a30-f4b083dd2cef",
   "metadata": {},
   "outputs": [
    {
     "data": {
      "text/html": [
       "<pre style=\"white-space:pre;overflow-x:auto;line-height:normal;font-family:Menlo,'DejaVu Sans Mono',consolas,'Courier New',monospace\"><span style=\"color: #7fbfbf; text-decoration-color: #7fbfbf\">[02/28/25 09:27:50] </span><span style=\"color: #0069ff; text-decoration-color: #0069ff; font-weight: bold\">INFO    </span> Ignoring unnecessary instance type: <span style=\"color: #e100e1; text-decoration-color: #e100e1; font-style: italic\">None</span>.                            <a href=\"file://C:\\Users\\Himanshu\\Demand_Forecasting_Project\\forecasting_env\\Lib\\site-packages\\sagemaker\\image_uris.py\" target=\"_blank\"><span style=\"color: #7f7f7f; text-decoration-color: #7f7f7f\">image_uris.py</span></a><span style=\"color: #7f7f7f; text-decoration-color: #7f7f7f\">:</span><a href=\"file://C:\\Users\\Himanshu\\Demand_Forecasting_Project\\forecasting_env\\Lib\\site-packages\\sagemaker\\image_uris.py#530\" target=\"_blank\"><span style=\"color: #7f7f7f; text-decoration-color: #7f7f7f\">530</span></a>\n",
       "</pre>\n"
      ],
      "text/plain": [
       "\u001b[2;36m[02/28/25 09:27:50]\u001b[0m\u001b[2;36m \u001b[0m\u001b[1;38;2;0;105;255mINFO    \u001b[0m Ignoring unnecessary instance type: \u001b[3;38;2;225;0;225mNone\u001b[0m.                            \u001b]8;id=198242;file://C:\\Users\\Himanshu\\Demand_Forecasting_Project\\forecasting_env\\Lib\\site-packages\\sagemaker\\image_uris.py\u001b\\\u001b[2mimage_uris.py\u001b[0m\u001b]8;;\u001b\\\u001b[2m:\u001b[0m\u001b]8;id=604463;file://C:\\Users\\Himanshu\\Demand_Forecasting_Project\\forecasting_env\\Lib\\site-packages\\sagemaker\\image_uris.py#530\u001b\\\u001b[2m530\u001b[0m\u001b]8;;\u001b\\\n"
      ]
     },
     "metadata": {},
     "output_type": "display_data"
    }
   ],
   "source": [
    "\n",
    "\n",
    "# ✅ Step 3: Get the Correct XGBoost Image URI\n",
    "region = boto3.Session().region_name\n",
    "xgboost_image_uri = image_uris.retrieve(\"xgboost\", region, version=\"1.5-1\")"
   ]
  },
  {
   "cell_type": "code",
   "execution_count": 10,
   "id": "603de1fd-da7f-4bc0-96ed-8337eff17eef",
   "metadata": {},
   "outputs": [
    {
     "data": {
      "text/html": [
       "<pre style=\"white-space:pre;overflow-x:auto;line-height:normal;font-family:Menlo,'DejaVu Sans Mono',consolas,'Courier New',monospace\"><span style=\"color: #7fbfbf; text-decoration-color: #7fbfbf\">[02/28/25 09:27:53] </span><span style=\"color: #0069ff; text-decoration-color: #0069ff; font-weight: bold\">INFO    </span> Found credentials in shared credentials file: ~<span style=\"color: #e100e1; text-decoration-color: #e100e1\">/.aws/credentials</span>   <a href=\"file://C:\\Users\\Himanshu\\Demand_Forecasting_Project\\forecasting_env\\Lib\\site-packages\\botocore\\credentials.py\" target=\"_blank\"><span style=\"color: #7f7f7f; text-decoration-color: #7f7f7f\">credentials.py</span></a><span style=\"color: #7f7f7f; text-decoration-color: #7f7f7f\">:</span><a href=\"file://C:\\Users\\Himanshu\\Demand_Forecasting_Project\\forecasting_env\\Lib\\site-packages\\botocore\\credentials.py#1278\" target=\"_blank\"><span style=\"color: #7f7f7f; text-decoration-color: #7f7f7f\">1278</span></a>\n",
       "</pre>\n"
      ],
      "text/plain": [
       "\u001b[2;36m[02/28/25 09:27:53]\u001b[0m\u001b[2;36m \u001b[0m\u001b[1;38;2;0;105;255mINFO    \u001b[0m Found credentials in shared credentials file: ~\u001b[38;2;225;0;225m/.aws/\u001b[0m\u001b[38;2;225;0;225mcredentials\u001b[0m   \u001b]8;id=287651;file://C:\\Users\\Himanshu\\Demand_Forecasting_Project\\forecasting_env\\Lib\\site-packages\\botocore\\credentials.py\u001b\\\u001b[2mcredentials.py\u001b[0m\u001b]8;;\u001b\\\u001b[2m:\u001b[0m\u001b]8;id=608624;file://C:\\Users\\Himanshu\\Demand_Forecasting_Project\\forecasting_env\\Lib\\site-packages\\botocore\\credentials.py#1278\u001b\\\u001b[2m1278\u001b[0m\u001b]8;;\u001b\\\n"
      ]
     },
     "metadata": {},
     "output_type": "display_data"
    }
   ],
   "source": [
    "# ✅ Step 4: Initialize SageMaker & S3 Clients\n",
    "sagemaker_client = boto3.client(\"sagemaker\")\n",
    "s3 = boto3.client(\"s3\")"
   ]
  },
  {
   "cell_type": "code",
   "execution_count": 11,
   "id": "7fed7ca6-f35c-4534-88c7-785b9206cfd1",
   "metadata": {},
   "outputs": [
    {
     "name": "stdout",
     "output_type": "stream",
     "text": [
      "✅ No existing endpoint found.\n",
      "✅ No existing endpoint config found.\n",
      "✅ No existing model found.\n"
     ]
    }
   ],
   "source": [
    "def delete_if_exists():\n",
    "    # ✅ Delete existing SageMaker endpoint\n",
    "    try:\n",
    "        sagemaker_client.describe_endpoint(EndpointName=ENDPOINT_NAME)\n",
    "        sagemaker_client.delete_endpoint(EndpointName=ENDPOINT_NAME)\n",
    "        print(f\"✅ Deleted existing endpoint: {ENDPOINT_NAME}\")\n",
    "    except sagemaker_client.exceptions.ClientError:\n",
    "        print(f\"✅ No existing endpoint found.\")\n",
    "\n",
    "    # ✅ Delete existing SageMaker endpoint configuration\n",
    "    try:\n",
    "        sagemaker_client.describe_endpoint_config(EndpointConfigName=ENDPOINT_CONFIG_NAME)\n",
    "        sagemaker_client.delete_endpoint_config(EndpointConfigName=ENDPOINT_CONFIG_NAME)\n",
    "        print(f\"✅ Deleted existing endpoint config: {ENDPOINT_CONFIG_NAME}\")\n",
    "    except sagemaker_client.exceptions.ClientError:\n",
    "        print(f\"✅ No existing endpoint config found.\")\n",
    "\n",
    "    # ✅ Delete existing SageMaker model\n",
    "    try:\n",
    "        sagemaker_client.describe_model(ModelName=MODEL_NAME)\n",
    "        sagemaker_client.delete_model(ModelName=MODEL_NAME)\n",
    "        print(f\"✅ Deleted existing model: {MODEL_NAME}\")\n",
    "    except sagemaker_client.exceptions.ClientError:\n",
    "        print(f\"✅ No existing model found.\")\n",
    "\n",
    "# Run the cleanup function before deploying the new model\n",
    "delete_if_exists()\n"
   ]
  },
  {
   "cell_type": "code",
   "execution_count": 12,
   "id": "b7b9c86a-82cf-4fcb-940e-db6fc6fb4dec",
   "metadata": {},
   "outputs": [],
   "source": [
    "\n",
    "# ✅ Step 6: Convert .pkl Model → XGBoost Native .model & Package\n",
    "MODEL_DIR = \"../models/\"\n",
    "os.makedirs(MODEL_DIR, exist_ok=True)"
   ]
  },
  {
   "cell_type": "code",
   "execution_count": 13,
   "id": "e4cc7874-e08c-43b9-ac86-0f401963dd01",
   "metadata": {},
   "outputs": [
    {
     "name": "stdout",
     "output_type": "stream",
     "text": [
      "✅ Found model: ../models/xgboost_model.pkl\n"
     ]
    }
   ],
   "source": [
    "import os\n",
    "\n",
    "MODEL_DIR = \"../models/\"\n",
    "pkl_model_path = os.path.join(MODEL_DIR, \"xgboost_model.pkl\")\n",
    "\n",
    "# Check if the file exists\n",
    "if os.path.exists(pkl_model_path):\n",
    "    print(f\"✅ Found model: {pkl_model_path}\")\n",
    "else:\n",
    "    print(f\"❌ Model not found at {pkl_model_path}. Did you save it correctly in `04_model_training.ipynb`?\")\n"
   ]
  },
  {
   "cell_type": "code",
   "execution_count": 14,
   "id": "c61e68ab-e321-42af-9ce6-0471df71b56a",
   "metadata": {},
   "outputs": [],
   "source": [
    "\n",
    "# Load trained model from .pkl\n",
    "pkl_model_path = os.path.join(MODEL_DIR, \"xgboost_model.pkl\")\n",
    "xgb_model = joblib.load(pkl_model_path)"
   ]
  },
  {
   "cell_type": "code",
   "execution_count": 15,
   "id": "719b9479-c5ec-4160-a4b0-a37189f51db3",
   "metadata": {},
   "outputs": [
    {
     "name": "stderr",
     "output_type": "stream",
     "text": [
      "C:\\Users\\Himanshu\\Demand_Forecasting_Project\\forecasting_env\\Lib\\site-packages\\xgboost\\core.py:158: UserWarning: [09:28:32] WARNING: C:\\buildkite-agent\\builds\\buildkite-windows-cpu-autoscaling-group-i-08cbc0333d8d4aae1-1\\xgboost\\xgboost-ci-windows\\src\\c_api\\c_api.cc:1374: Saving model in the UBJSON format as default.  You can use file extension: `json`, `ubj` or `deprecated` to choose between formats.\n",
      "  warnings.warn(smsg, UserWarning)\n"
     ]
    }
   ],
   "source": [
    "\n",
    "# Save in XGBoost's native format\n",
    "xgb_model_path = os.path.join(MODEL_DIR, \"xgboost_model.model\")\n",
    "xgb_model.save_model(xgb_model_path)"
   ]
  },
  {
   "cell_type": "code",
   "execution_count": 16,
   "id": "ec509f7a-a875-4c5c-a20a-1921fe909d78",
   "metadata": {},
   "outputs": [],
   "source": [
    "# Apply correct file permissions before packaging\n",
    "os.chmod(xgb_model_path, 0o644)  # Read & write for owner, read-only for others\n"
   ]
  },
  {
   "cell_type": "code",
   "execution_count": 17,
   "id": "a1357606-ca5b-43fb-991e-40c95675a40f",
   "metadata": {},
   "outputs": [
    {
     "name": "stdout",
     "output_type": "stream",
     "text": [
      "✅ Model converted, permissions fixed, and compressed at ../models/xgboost_model.tar.gz\n"
     ]
    }
   ],
   "source": [
    "\n",
    "# Create .tar.gz package for SageMaker\n",
    "tar_path = os.path.join(MODEL_DIR, MODEL_FILE)\n",
    "with tarfile.open(tar_path, \"w:gz\") as tar:\n",
    "    tar.add(xgb_model_path, arcname=\"xgboost_model.model\")\n",
    "\n",
    "print(f\"✅ Model converted, permissions fixed, and compressed at {tar_path}\")"
   ]
  },
  {
   "cell_type": "code",
   "execution_count": 18,
   "id": "88ae73bd-857f-4afd-bbba-bc64f606422d",
   "metadata": {},
   "outputs": [
    {
     "name": "stdout",
     "output_type": "stream",
     "text": [
      "✅ Model uploaded to S3: s3://demand-forecasting-bucket-us-east-1/xgboost_model.tar.gz\n"
     ]
    }
   ],
   "source": [
    "\n",
    "# ✅ Step 7: Upload Model to S3\n",
    "s3.upload_file(tar_path, BUCKET_NAME, MODEL_FILE)\n",
    "print(f\"✅ Model uploaded to S3: {MODEL_URI}\")"
   ]
  },
  {
   "cell_type": "code",
   "execution_count": 19,
   "id": "7e8473e2-e33e-4df3-8018-1e71c11530ec",
   "metadata": {},
   "outputs": [
    {
     "name": "stdout",
     "output_type": "stream",
     "text": [
      "🚀 Creating new SageMaker model...\n",
      "✅ SageMaker model 'xgboost-demand-forecasting' created.\n"
     ]
    }
   ],
   "source": [
    "\n",
    "\n",
    "\n",
    "# ✅ Step 8: Create SageMaker Model\n",
    "print(\"🚀 Creating new SageMaker model...\")\n",
    "sagemaker_client.create_model(\n",
    "    ModelName=MODEL_NAME,\n",
    "    PrimaryContainer={\"Image\": xgboost_image_uri, \"ModelDataUrl\": MODEL_URI},\n",
    "    ExecutionRoleArn=ROLE_ARN\n",
    ")\n",
    "print(f\"✅ SageMaker model '{MODEL_NAME}' created.\")"
   ]
  },
  {
   "cell_type": "code",
   "execution_count": 20,
   "id": "01ed374e-d1eb-48b3-8e08-b9725ff939cb",
   "metadata": {},
   "outputs": [
    {
     "name": "stdout",
     "output_type": "stream",
     "text": [
      "🚀 Creating new endpoint configuration...\n",
      "✅ Endpoint config 'xgboost-demand-forecasting-config' created.\n"
     ]
    }
   ],
   "source": [
    "\n",
    "# ✅ Step 9: Create Endpoint Configuration\n",
    "print(\"🚀 Creating new endpoint configuration...\")\n",
    "sagemaker_client.create_endpoint_config(\n",
    "    EndpointConfigName=ENDPOINT_CONFIG_NAME,\n",
    "    ProductionVariants=[{\n",
    "        \"VariantName\": \"AllTraffic\",\n",
    "        \"ModelName\": MODEL_NAME,\n",
    "        \"InstanceType\": \"ml.m5.large\",\n",
    "        \"InitialInstanceCount\": 1\n",
    "    }]\n",
    ")\n",
    "print(f\"✅ Endpoint config '{ENDPOINT_CONFIG_NAME}' created.\")"
   ]
  },
  {
   "cell_type": "code",
   "execution_count": 21,
   "id": "c13005c4-d7f5-40c6-9b3f-cbe10aedf9f4",
   "metadata": {},
   "outputs": [
    {
     "name": "stdout",
     "output_type": "stream",
     "text": [
      "🚀 Deploying new endpoint...\n",
      "🚀 Deploying SageMaker endpoint 'xgboost-demand-forecasting-endpoint'... (This may take a few minutes)\n"
     ]
    }
   ],
   "source": [
    "\n",
    "# ✅ Step 10: Deploy SageMaker Endpoint\n",
    "print(\"🚀 Deploying new endpoint...\")\n",
    "sagemaker_client.create_endpoint(\n",
    "    EndpointName=ENDPOINT_NAME,\n",
    "    EndpointConfigName=ENDPOINT_CONFIG_NAME\n",
    ")\n",
    "print(f\"🚀 Deploying SageMaker endpoint '{ENDPOINT_NAME}'... (This may take a few minutes)\")"
   ]
  },
  {
   "cell_type": "code",
   "execution_count": 22,
   "id": "4c44dbc9-9f00-4259-aa56-832a52fc0f95",
   "metadata": {},
   "outputs": [
    {
     "name": "stdout",
     "output_type": "stream",
     "text": [
      "🔍 Current Status: Creating\n",
      "🔍 Current Status: Creating\n",
      "🔍 Current Status: Creating\n",
      "🔍 Current Status: Creating\n",
      "🔍 Current Status: Creating\n",
      "🔍 Current Status: Creating\n",
      "🔍 Current Status: Creating\n",
      "🔍 Current Status: Creating\n",
      "🔍 Current Status: Creating\n",
      "🔍 Current Status: Creating\n",
      "🔍 Current Status: Creating\n",
      "🔍 Current Status: Creating\n",
      "🔍 Current Status: Creating\n",
      "🔍 Current Status: Creating\n",
      "🔍 Current Status: Creating\n",
      "🔍 Current Status: Creating\n",
      "🔍 Current Status: Creating\n",
      "🔍 Current Status: Creating\n",
      "🔍 Current Status: Creating\n",
      "🔍 Current Status: Creating\n",
      "🔍 Current Status: Creating\n",
      "🔍 Current Status: Creating\n",
      "🔍 Current Status: Creating\n",
      "🔍 Current Status: Creating\n",
      "🔍 Current Status: Creating\n",
      "🔍 Current Status: Creating\n",
      "🔍 Current Status: Creating\n",
      "🔍 Current Status: Creating\n",
      "🔍 Current Status: Creating\n",
      "🔍 Current Status: Creating\n",
      "🔍 Current Status: Creating\n",
      "🔍 Current Status: Creating\n",
      "🔍 Current Status: Creating\n",
      "🔍 Current Status: Creating\n",
      "🔍 Current Status: Creating\n",
      "🔍 Current Status: Creating\n",
      "🔍 Current Status: Creating\n",
      "🔍 Current Status: Creating\n",
      "🔍 Current Status: Creating\n",
      "🔍 Current Status: Creating\n",
      "🔍 Current Status: Creating\n",
      "🔍 Current Status: Creating\n",
      "🔍 Current Status: Creating\n",
      "🔍 Current Status: Creating\n",
      "🔍 Current Status: Creating\n",
      "🔍 Current Status: Creating\n",
      "🔍 Current Status: Creating\n",
      "🔍 Current Status: Failed\n",
      "❌ Deployment failed! Check AWS SageMaker logs.\n",
      "🔴 Failure Reason: The primary container for production variant AllTraffic did not pass the ping health check. Please check CloudWatch logs for this endpoint.\n"
     ]
    },
    {
     "data": {
      "text/html": [
       "<pre style=\"white-space:pre;overflow-x:auto;line-height:normal;font-family:Menlo,'DejaVu Sans Mono',consolas,'Courier New',monospace\"><span style=\"color: #ff0000; text-decoration-color: #ff0000\">╭─────────────────────────────── </span><span style=\"color: #ff0000; text-decoration-color: #ff0000; font-weight: bold\">Traceback </span><span style=\"color: #ff7f7f; text-decoration-color: #ff7f7f; font-weight: bold\">(most recent call last)</span><span style=\"color: #ff0000; text-decoration-color: #ff0000\"> ────────────────────────────────╮</span>\n",
       "<span style=\"color: #ff0000; text-decoration-color: #ff0000\">│</span> <span style=\"color: #808000; text-decoration-color: #808000\">C:\\Users\\Himanshu\\Demand_Forecasting_Project\\forecasting_env\\Lib\\site-packages\\IPython\\core\\inte</span> <span style=\"color: #ff0000; text-decoration-color: #ff0000\">│</span>\n",
       "<span style=\"color: #ff0000; text-decoration-color: #ff0000\">│</span> <span style=\"color: #808000; text-decoration-color: #808000\">ractiveshell.py</span>:<span style=\"color: #0000ff; text-decoration-color: #0000ff\">3579</span> in <span style=\"color: #00ff00; text-decoration-color: #00ff00\">run_code</span>                                                                 <span style=\"color: #ff0000; text-decoration-color: #ff0000\">│</span>\n",
       "<span style=\"color: #ff0000; text-decoration-color: #ff0000\">│</span>                                                                                                  <span style=\"color: #ff0000; text-decoration-color: #ff0000\">│</span>\n",
       "<span style=\"color: #ff0000; text-decoration-color: #ff0000\">│</span>   <span style=\"color: #7f7f7f; text-decoration-color: #7f7f7f\">3576 </span><span style=\"color: #7f7f7f; text-decoration-color: #7f7f7f\">│   │   │   │   </span><span style=\"color: #0000ff; text-decoration-color: #0000ff\">if</span> async_:                                                                <span style=\"color: #ff0000; text-decoration-color: #ff0000\">│</span>\n",
       "<span style=\"color: #ff0000; text-decoration-color: #ff0000\">│</span>   <span style=\"color: #7f7f7f; text-decoration-color: #7f7f7f\">3577 </span><span style=\"color: #7f7f7f; text-decoration-color: #7f7f7f\">│   │   │   │   │   </span><span style=\"color: #0000ff; text-decoration-color: #0000ff\">await</span> <span style=\"color: #00ffff; text-decoration-color: #00ffff\">eval</span>(code_obj, <span style=\"color: #00ffff; text-decoration-color: #00ffff\">self</span>.user_global_ns, <span style=\"color: #00ffff; text-decoration-color: #00ffff\">self</span>.user_ns)               <span style=\"color: #ff0000; text-decoration-color: #ff0000\">│</span>\n",
       "<span style=\"color: #ff0000; text-decoration-color: #ff0000\">│</span>   <span style=\"color: #7f7f7f; text-decoration-color: #7f7f7f\">3578 </span><span style=\"color: #7f7f7f; text-decoration-color: #7f7f7f\">│   │   │   │   </span><span style=\"color: #0000ff; text-decoration-color: #0000ff\">else</span>:                                                                     <span style=\"color: #ff0000; text-decoration-color: #ff0000\">│</span>\n",
       "<span style=\"color: #ff0000; text-decoration-color: #ff0000\">│</span> <span style=\"color: #800000; text-decoration-color: #800000\">❱ </span>3579 <span style=\"color: #7f7f7f; text-decoration-color: #7f7f7f\">│   │   │   │   │   </span>exec(code_obj, <span style=\"color: #00ffff; text-decoration-color: #00ffff\">self</span>.user_global_ns, <span style=\"color: #00ffff; text-decoration-color: #00ffff\">self</span>.user_ns)                     <span style=\"color: #ff0000; text-decoration-color: #ff0000\">│</span>\n",
       "<span style=\"color: #ff0000; text-decoration-color: #ff0000\">│</span>   <span style=\"color: #7f7f7f; text-decoration-color: #7f7f7f\">3580 </span><span style=\"color: #7f7f7f; text-decoration-color: #7f7f7f\">│   │   │   </span><span style=\"color: #0000ff; text-decoration-color: #0000ff\">finally</span>:                                                                      <span style=\"color: #ff0000; text-decoration-color: #ff0000\">│</span>\n",
       "<span style=\"color: #ff0000; text-decoration-color: #ff0000\">│</span>   <span style=\"color: #7f7f7f; text-decoration-color: #7f7f7f\">3581 </span><span style=\"color: #7f7f7f; text-decoration-color: #7f7f7f\">│   │   │   │   </span><span style=\"color: #7f7f7f; text-decoration-color: #7f7f7f\"># Reset our crash handler in place</span>                                        <span style=\"color: #ff0000; text-decoration-color: #ff0000\">│</span>\n",
       "<span style=\"color: #ff0000; text-decoration-color: #ff0000\">│</span>   <span style=\"color: #7f7f7f; text-decoration-color: #7f7f7f\">3582 </span><span style=\"color: #7f7f7f; text-decoration-color: #7f7f7f\">│   │   │   │   </span>sys.excepthook = old_excepthook                                           <span style=\"color: #ff0000; text-decoration-color: #ff0000\">│</span>\n",
       "<span style=\"color: #ff0000; text-decoration-color: #ff0000\">│</span>                                                                                                  <span style=\"color: #ff0000; text-decoration-color: #ff0000\">│</span>\n",
       "<span style=\"color: #ff0000; text-decoration-color: #ff0000\">│</span> in <span style=\"color: #00ff00; text-decoration-color: #00ff00\">&lt;module&gt;</span>:<span style=\"color: #0000ff; text-decoration-color: #0000ff\">18</span>                                                                                   <span style=\"color: #ff0000; text-decoration-color: #ff0000\">│</span>\n",
       "<span style=\"color: #ff0000; text-decoration-color: #ff0000\">│</span>                                                                                                  <span style=\"color: #ff0000; text-decoration-color: #ff0000\">│</span>\n",
       "<span style=\"color: #ff0000; text-decoration-color: #ff0000\">│</span>   <span style=\"color: #7f7f7f; text-decoration-color: #7f7f7f\">15 </span><span style=\"color: #7f7f7f; text-decoration-color: #7f7f7f\">│   │   </span><span style=\"color: #00ffff; text-decoration-color: #00ffff\">print</span>(<span style=\"color: #808000; text-decoration-color: #808000\">f\"🔴 Failure Reason: {</span>failure_reason<span style=\"color: #808000; text-decoration-color: #808000\">}\"</span>)                                       <span style=\"color: #ff0000; text-decoration-color: #ff0000\">│</span>\n",
       "<span style=\"color: #ff0000; text-decoration-color: #ff0000\">│</span>   <span style=\"color: #7f7f7f; text-decoration-color: #7f7f7f\">16 </span><span style=\"color: #7f7f7f; text-decoration-color: #7f7f7f\">│   │   </span>                                                                                    <span style=\"color: #ff0000; text-decoration-color: #ff0000\">│</span>\n",
       "<span style=\"color: #ff0000; text-decoration-color: #ff0000\">│</span>   <span style=\"color: #7f7f7f; text-decoration-color: #7f7f7f\">17 </span><span style=\"color: #7f7f7f; text-decoration-color: #7f7f7f\">│   │   </span><span style=\"color: #7f7f7f; text-decoration-color: #7f7f7f\"># Exit script</span>                                                                       <span style=\"color: #ff0000; text-decoration-color: #ff0000\">│</span>\n",
       "<span style=\"color: #ff0000; text-decoration-color: #ff0000\">│</span> <span style=\"color: #800000; text-decoration-color: #800000\">❱ </span>18 <span style=\"color: #7f7f7f; text-decoration-color: #7f7f7f\">│   │   </span><span style=\"color: #0000ff; text-decoration-color: #0000ff; font-weight: bold; text-decoration: underline\">raise</span><span style=\"font-weight: bold; text-decoration: underline\"> </span><span style=\"color: #00ffff; text-decoration-color: #00ffff; font-weight: bold; text-decoration: underline\">SystemExit</span><span style=\"font-weight: bold; text-decoration: underline\">(</span><span style=\"color: #808000; text-decoration-color: #808000; font-weight: bold; text-decoration: underline\">f\"❌ Deployment failed: {</span><span style=\"font-weight: bold; text-decoration: underline\">failure_reason</span><span style=\"color: #808000; text-decoration-color: #808000; font-weight: bold; text-decoration: underline\">}\"</span><span style=\"font-weight: bold; text-decoration: underline\">)</span>                         <span style=\"color: #ff0000; text-decoration-color: #ff0000\">│</span>\n",
       "<span style=\"color: #ff0000; text-decoration-color: #ff0000\">│</span>   <span style=\"color: #7f7f7f; text-decoration-color: #7f7f7f\">19 </span><span style=\"color: #7f7f7f; text-decoration-color: #7f7f7f\">│   </span>                                                                                        <span style=\"color: #ff0000; text-decoration-color: #ff0000\">│</span>\n",
       "<span style=\"color: #ff0000; text-decoration-color: #ff0000\">│</span>   <span style=\"color: #7f7f7f; text-decoration-color: #7f7f7f\">20 </span><span style=\"color: #7f7f7f; text-decoration-color: #7f7f7f\">│   </span>time.sleep(<span style=\"color: #0000ff; text-decoration-color: #0000ff\">30</span>)  <span style=\"color: #7f7f7f; text-decoration-color: #7f7f7f\"># Check status every 30 seconds</span>                                         <span style=\"color: #ff0000; text-decoration-color: #ff0000\">│</span>\n",
       "<span style=\"color: #ff0000; text-decoration-color: #ff0000\">│</span>   <span style=\"color: #7f7f7f; text-decoration-color: #7f7f7f\">21 </span>                                                                                            <span style=\"color: #ff0000; text-decoration-color: #ff0000\">│</span>\n",
       "<span style=\"color: #ff0000; text-decoration-color: #ff0000\">╰──────────────────────────────────────────────────────────────────────────────────────────────────╯</span>\n",
       "<span style=\"color: #ff0000; text-decoration-color: #ff0000; font-weight: bold\">SystemExit: </span>❌ Deployment failed: The primary container for production variant AllTraffic did not pass the ping \n",
       "health check. Please check CloudWatch logs for this endpoint.\n",
       "</pre>\n"
      ],
      "text/plain": [
       "\u001b[38;2;255;0;0m╭─\u001b[0m\u001b[38;2;255;0;0m──────────────────────────────\u001b[0m\u001b[38;2;255;0;0m \u001b[0m\u001b[1;38;2;255;0;0mTraceback \u001b[0m\u001b[1;2;38;2;255;0;0m(most recent call last)\u001b[0m\u001b[38;2;255;0;0m \u001b[0m\u001b[38;2;255;0;0m───────────────────────────────\u001b[0m\u001b[38;2;255;0;0m─╮\u001b[0m\n",
       "\u001b[38;2;255;0;0m│\u001b[0m \u001b[33mC:\\Users\\Himanshu\\Demand_Forecasting_Project\\forecasting_env\\Lib\\site-packages\\IPython\\core\\inte\u001b[0m \u001b[38;2;255;0;0m│\u001b[0m\n",
       "\u001b[38;2;255;0;0m│\u001b[0m \u001b[33mractiveshell.py\u001b[0m:\u001b[94m3579\u001b[0m in \u001b[92mrun_code\u001b[0m                                                                 \u001b[38;2;255;0;0m│\u001b[0m\n",
       "\u001b[38;2;255;0;0m│\u001b[0m                                                                                                  \u001b[38;2;255;0;0m│\u001b[0m\n",
       "\u001b[38;2;255;0;0m│\u001b[0m   \u001b[2m3576 \u001b[0m\u001b[2m│   │   │   │   \u001b[0m\u001b[94mif\u001b[0m async_:                                                                \u001b[38;2;255;0;0m│\u001b[0m\n",
       "\u001b[38;2;255;0;0m│\u001b[0m   \u001b[2m3577 \u001b[0m\u001b[2m│   │   │   │   │   \u001b[0m\u001b[94mawait\u001b[0m \u001b[96meval\u001b[0m(code_obj, \u001b[96mself\u001b[0m.user_global_ns, \u001b[96mself\u001b[0m.user_ns)               \u001b[38;2;255;0;0m│\u001b[0m\n",
       "\u001b[38;2;255;0;0m│\u001b[0m   \u001b[2m3578 \u001b[0m\u001b[2m│   │   │   │   \u001b[0m\u001b[94melse\u001b[0m:                                                                     \u001b[38;2;255;0;0m│\u001b[0m\n",
       "\u001b[38;2;255;0;0m│\u001b[0m \u001b[31m❱ \u001b[0m3579 \u001b[2m│   │   │   │   │   \u001b[0mexec(code_obj, \u001b[96mself\u001b[0m.user_global_ns, \u001b[96mself\u001b[0m.user_ns)                     \u001b[38;2;255;0;0m│\u001b[0m\n",
       "\u001b[38;2;255;0;0m│\u001b[0m   \u001b[2m3580 \u001b[0m\u001b[2m│   │   │   \u001b[0m\u001b[94mfinally\u001b[0m:                                                                      \u001b[38;2;255;0;0m│\u001b[0m\n",
       "\u001b[38;2;255;0;0m│\u001b[0m   \u001b[2m3581 \u001b[0m\u001b[2m│   │   │   │   \u001b[0m\u001b[2m# Reset our crash handler in place\u001b[0m                                        \u001b[38;2;255;0;0m│\u001b[0m\n",
       "\u001b[38;2;255;0;0m│\u001b[0m   \u001b[2m3582 \u001b[0m\u001b[2m│   │   │   │   \u001b[0msys.excepthook = old_excepthook                                           \u001b[38;2;255;0;0m│\u001b[0m\n",
       "\u001b[38;2;255;0;0m│\u001b[0m                                                                                                  \u001b[38;2;255;0;0m│\u001b[0m\n",
       "\u001b[38;2;255;0;0m│\u001b[0m in \u001b[92m<module>\u001b[0m:\u001b[94m18\u001b[0m                                                                                   \u001b[38;2;255;0;0m│\u001b[0m\n",
       "\u001b[38;2;255;0;0m│\u001b[0m                                                                                                  \u001b[38;2;255;0;0m│\u001b[0m\n",
       "\u001b[38;2;255;0;0m│\u001b[0m   \u001b[2m15 \u001b[0m\u001b[2m│   │   \u001b[0m\u001b[96mprint\u001b[0m(\u001b[33mf\u001b[0m\u001b[33m\"\u001b[0m\u001b[33m🔴 Failure Reason: \u001b[0m\u001b[33m{\u001b[0mfailure_reason\u001b[33m}\u001b[0m\u001b[33m\"\u001b[0m)                                       \u001b[38;2;255;0;0m│\u001b[0m\n",
       "\u001b[38;2;255;0;0m│\u001b[0m   \u001b[2m16 \u001b[0m\u001b[2m│   │   \u001b[0m                                                                                    \u001b[38;2;255;0;0m│\u001b[0m\n",
       "\u001b[38;2;255;0;0m│\u001b[0m   \u001b[2m17 \u001b[0m\u001b[2m│   │   \u001b[0m\u001b[2m# Exit script\u001b[0m                                                                       \u001b[38;2;255;0;0m│\u001b[0m\n",
       "\u001b[38;2;255;0;0m│\u001b[0m \u001b[31m❱ \u001b[0m18 \u001b[2m│   │   \u001b[0m\u001b[1;4;94mraise\u001b[0m\u001b[1;4m \u001b[0m\u001b[1;4;96mSystemExit\u001b[0m\u001b[1;4m(\u001b[0m\u001b[1;4;33mf\u001b[0m\u001b[1;4;33m\"\u001b[0m\u001b[1;4;33m❌ Deployment failed: \u001b[0m\u001b[1;4;33m{\u001b[0m\u001b[1;4mfailure_reason\u001b[0m\u001b[1;4;33m}\u001b[0m\u001b[1;4;33m\"\u001b[0m\u001b[1;4m)\u001b[0m                         \u001b[38;2;255;0;0m│\u001b[0m\n",
       "\u001b[38;2;255;0;0m│\u001b[0m   \u001b[2m19 \u001b[0m\u001b[2m│   \u001b[0m                                                                                        \u001b[38;2;255;0;0m│\u001b[0m\n",
       "\u001b[38;2;255;0;0m│\u001b[0m   \u001b[2m20 \u001b[0m\u001b[2m│   \u001b[0mtime.sleep(\u001b[94m30\u001b[0m)  \u001b[2m# Check status every 30 seconds\u001b[0m                                         \u001b[38;2;255;0;0m│\u001b[0m\n",
       "\u001b[38;2;255;0;0m│\u001b[0m   \u001b[2m21 \u001b[0m                                                                                            \u001b[38;2;255;0;0m│\u001b[0m\n",
       "\u001b[38;2;255;0;0m╰──────────────────────────────────────────────────────────────────────────────────────────────────╯\u001b[0m\n",
       "\u001b[1;91mSystemExit: \u001b[0m❌ Deployment failed: The primary container for production variant AllTraffic did not pass the ping \n",
       "health check. Please check CloudWatch logs for this endpoint.\n"
      ]
     },
     "metadata": {},
     "output_type": "display_data"
    },
    {
     "name": "stderr",
     "output_type": "stream",
     "text": [
      "C:\\Users\\Himanshu\\Demand_Forecasting_Project\\forecasting_env\\Lib\\site-packages\\IPython\\core\\interactiveshell.py:3587: UserWarning: To exit: use 'exit', 'quit', or Ctrl-D.\n",
      "  warn(\"To exit: use 'exit', 'quit', or Ctrl-D.\", stacklevel=1)\n"
     ]
    }
   ],
   "source": [
    "\n",
    "\n",
    "\n",
    "\n",
    "# ✅ Step 11: Wait for Deployment to Complete\n",
    "while True:\n",
    "    response = sagemaker_client.describe_endpoint(EndpointName=ENDPOINT_NAME)\n",
    "    status = response[\"EndpointStatus\"]\n",
    "    print(f\"🔍 Current Status: {status}\")\n",
    "\n",
    "    if status == \"InService\":\n",
    "        print(f\"✅ SageMaker Endpoint '{ENDPOINT_NAME}' is ready for inference!\")\n",
    "        break\n",
    "    elif status in [\"Failed\", \"RollingBack\"]:\n",
    "        print(f\"❌ Deployment failed! Check AWS SageMaker logs.\")\n",
    "        \n",
    "        # Get failure reason from SageMaker\n",
    "        failure_reason = response.get(\"FailureReason\", \"Unknown error\")\n",
    "        print(f\"🔴 Failure Reason: {failure_reason}\")\n",
    "        \n",
    "        # Exit script\n",
    "        raise SystemExit(f\"❌ Deployment failed: {failure_reason}\")\n",
    "    \n",
    "    time.sleep(30)  # Check status every 30 seconds\n",
    "\n",
    "print(\"🎯 Deployment process completed successfully!\")"
   ]
  },
  {
   "cell_type": "code",
   "execution_count": null,
   "id": "d25f7be3-3ea9-439c-8f2c-f938d1b7e7a8",
   "metadata": {},
   "outputs": [],
   "source": []
  },
  {
   "cell_type": "code",
   "execution_count": null,
   "id": "ff29a287-812b-4b90-ad0a-43731602a343",
   "metadata": {},
   "outputs": [],
   "source": [
    "\n",
    "\n",
    "\n",
    "\n",
    "\n",
    "\n",
    "\n",
    "# ✅ Step 12: Test Model Inference\n",
    "print(\"🚀 Testing inference on deployed model...\")\n",
    "\n",
    "runtime = boto3.client(\"sagemaker-runtime\")\n",
    "\n",
    "# Create a sample input (Modify based on your data)\n",
    "test_input = json.dumps({\"instances\": [[5.2, 3.1, 1.4, 0.2]]})\n",
    "\n",
    "# Invoke the endpoint\n",
    "response = runtime.invoke_endpoint(\n",
    "    EndpointName=ENDPOINT_NAME,\n",
    "    ContentType=\"application/json\",\n",
    "    Body=test_input\n",
    ")\n",
    "\n",
    "# Parse response\n",
    "result = json.loads(response[\"Body\"].read().decode())\n",
    "print(\"✅ Model Inference Output:\", result)\n"
   ]
  }
 ],
 "metadata": {
  "kernelspec": {
   "display_name": "Python (forecasting_env)",
   "language": "python",
   "name": "forecasting_env"
  },
  "language_info": {
   "codemirror_mode": {
    "name": "ipython",
    "version": 3
   },
   "file_extension": ".py",
   "mimetype": "text/x-python",
   "name": "python",
   "nbconvert_exporter": "python",
   "pygments_lexer": "ipython3",
   "version": "3.12.4"
  }
 },
 "nbformat": 4,
 "nbformat_minor": 5
}
